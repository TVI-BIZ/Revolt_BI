{
  "nbformat": 4,
  "nbformat_minor": 0,
  "metadata": {
    "colab": {
      "name": "1212_4_AgroCode_pre_snippet.ipynb",
      "provenance": [],
      "collapsed_sections": []
    },
    "kernelspec": {
      "display_name": "Python 3",
      "language": "python",
      "name": "python3"
    },
    "language_info": {
      "codemirror_mode": {
        "name": "ipython",
        "version": 3
      },
      "file_extension": ".py",
      "mimetype": "text/x-python",
      "name": "python",
      "nbconvert_exporter": "python",
      "pygments_lexer": "ipython3",
      "version": "3.7.7"
    },
    "widgets": {
      "application/vnd.jupyter.widget-state+json": {
        "5bb5db619c3e42aeb5da87e7692ce7e7": {
          "model_module": "@jupyter-widgets/controls",
          "model_name": "HBoxModel",
          "state": {
            "_view_name": "HBoxView",
            "_dom_classes": [],
            "_model_name": "HBoxModel",
            "_view_module": "@jupyter-widgets/controls",
            "_model_module_version": "1.5.0",
            "_view_count": null,
            "_view_module_version": "1.5.0",
            "box_style": "",
            "layout": "IPY_MODEL_97a4597c449e40978770111bf070a77c",
            "_model_module": "@jupyter-widgets/controls",
            "children": [
              "IPY_MODEL_b78cd23d14d345338ef2ad1eb335c85a",
              "IPY_MODEL_a176ebc2b1134dd19e3188ad5290d54f"
            ]
          }
        },
        "97a4597c449e40978770111bf070a77c": {
          "model_module": "@jupyter-widgets/base",
          "model_name": "LayoutModel",
          "state": {
            "_view_name": "LayoutView",
            "grid_template_rows": null,
            "right": null,
            "justify_content": null,
            "_view_module": "@jupyter-widgets/base",
            "overflow": null,
            "_model_module_version": "1.2.0",
            "_view_count": null,
            "flex_flow": null,
            "width": null,
            "min_width": null,
            "border": null,
            "align_items": null,
            "bottom": null,
            "_model_module": "@jupyter-widgets/base",
            "top": null,
            "grid_column": null,
            "overflow_y": null,
            "overflow_x": null,
            "grid_auto_flow": null,
            "grid_area": null,
            "grid_template_columns": null,
            "flex": null,
            "_model_name": "LayoutModel",
            "justify_items": null,
            "grid_row": null,
            "max_height": null,
            "align_content": null,
            "visibility": null,
            "align_self": null,
            "height": null,
            "min_height": null,
            "padding": null,
            "grid_auto_rows": null,
            "grid_gap": null,
            "max_width": null,
            "order": null,
            "_view_module_version": "1.2.0",
            "grid_template_areas": null,
            "object_position": null,
            "object_fit": null,
            "grid_auto_columns": null,
            "margin": null,
            "display": null,
            "left": null
          }
        },
        "b78cd23d14d345338ef2ad1eb335c85a": {
          "model_module": "@jupyter-widgets/controls",
          "model_name": "FloatProgressModel",
          "state": {
            "_view_name": "ProgressView",
            "style": "IPY_MODEL_f3f55657bbae4662954839e03890e854",
            "_dom_classes": [],
            "description": "100%",
            "_model_name": "FloatProgressModel",
            "bar_style": "success",
            "max": 10,
            "_view_module": "@jupyter-widgets/controls",
            "_model_module_version": "1.5.0",
            "value": 10,
            "_view_count": null,
            "_view_module_version": "1.5.0",
            "orientation": "horizontal",
            "min": 0,
            "description_tooltip": null,
            "_model_module": "@jupyter-widgets/controls",
            "layout": "IPY_MODEL_522ff3013ab9453fbfebbac5e99ffa39"
          }
        },
        "a176ebc2b1134dd19e3188ad5290d54f": {
          "model_module": "@jupyter-widgets/controls",
          "model_name": "HTMLModel",
          "state": {
            "_view_name": "HTMLView",
            "style": "IPY_MODEL_66f735544401459e89b831f31242f659",
            "_dom_classes": [],
            "description": "",
            "_model_name": "HTMLModel",
            "placeholder": "​",
            "_view_module": "@jupyter-widgets/controls",
            "_model_module_version": "1.5.0",
            "value": " 10/10 [08:35&lt;00:00, 51.56s/it]",
            "_view_count": null,
            "_view_module_version": "1.5.0",
            "description_tooltip": null,
            "_model_module": "@jupyter-widgets/controls",
            "layout": "IPY_MODEL_1288ab4badf84129a2c3909e1fd02800"
          }
        },
        "f3f55657bbae4662954839e03890e854": {
          "model_module": "@jupyter-widgets/controls",
          "model_name": "ProgressStyleModel",
          "state": {
            "_view_name": "StyleView",
            "_model_name": "ProgressStyleModel",
            "description_width": "initial",
            "_view_module": "@jupyter-widgets/base",
            "_model_module_version": "1.5.0",
            "_view_count": null,
            "_view_module_version": "1.2.0",
            "bar_color": null,
            "_model_module": "@jupyter-widgets/controls"
          }
        },
        "522ff3013ab9453fbfebbac5e99ffa39": {
          "model_module": "@jupyter-widgets/base",
          "model_name": "LayoutModel",
          "state": {
            "_view_name": "LayoutView",
            "grid_template_rows": null,
            "right": null,
            "justify_content": null,
            "_view_module": "@jupyter-widgets/base",
            "overflow": null,
            "_model_module_version": "1.2.0",
            "_view_count": null,
            "flex_flow": null,
            "width": null,
            "min_width": null,
            "border": null,
            "align_items": null,
            "bottom": null,
            "_model_module": "@jupyter-widgets/base",
            "top": null,
            "grid_column": null,
            "overflow_y": null,
            "overflow_x": null,
            "grid_auto_flow": null,
            "grid_area": null,
            "grid_template_columns": null,
            "flex": null,
            "_model_name": "LayoutModel",
            "justify_items": null,
            "grid_row": null,
            "max_height": null,
            "align_content": null,
            "visibility": null,
            "align_self": null,
            "height": null,
            "min_height": null,
            "padding": null,
            "grid_auto_rows": null,
            "grid_gap": null,
            "max_width": null,
            "order": null,
            "_view_module_version": "1.2.0",
            "grid_template_areas": null,
            "object_position": null,
            "object_fit": null,
            "grid_auto_columns": null,
            "margin": null,
            "display": null,
            "left": null
          }
        },
        "66f735544401459e89b831f31242f659": {
          "model_module": "@jupyter-widgets/controls",
          "model_name": "DescriptionStyleModel",
          "state": {
            "_view_name": "StyleView",
            "_model_name": "DescriptionStyleModel",
            "description_width": "",
            "_view_module": "@jupyter-widgets/base",
            "_model_module_version": "1.5.0",
            "_view_count": null,
            "_view_module_version": "1.2.0",
            "_model_module": "@jupyter-widgets/controls"
          }
        },
        "1288ab4badf84129a2c3909e1fd02800": {
          "model_module": "@jupyter-widgets/base",
          "model_name": "LayoutModel",
          "state": {
            "_view_name": "LayoutView",
            "grid_template_rows": null,
            "right": null,
            "justify_content": null,
            "_view_module": "@jupyter-widgets/base",
            "overflow": null,
            "_model_module_version": "1.2.0",
            "_view_count": null,
            "flex_flow": null,
            "width": null,
            "min_width": null,
            "border": null,
            "align_items": null,
            "bottom": null,
            "_model_module": "@jupyter-widgets/base",
            "top": null,
            "grid_column": null,
            "overflow_y": null,
            "overflow_x": null,
            "grid_auto_flow": null,
            "grid_area": null,
            "grid_template_columns": null,
            "flex": null,
            "_model_name": "LayoutModel",
            "justify_items": null,
            "grid_row": null,
            "max_height": null,
            "align_content": null,
            "visibility": null,
            "align_self": null,
            "height": null,
            "min_height": null,
            "padding": null,
            "grid_auto_rows": null,
            "grid_gap": null,
            "max_width": null,
            "order": null,
            "_view_module_version": "1.2.0",
            "grid_template_areas": null,
            "object_position": null,
            "object_fit": null,
            "grid_auto_columns": null,
            "margin": null,
            "display": null,
            "left": null
          }
        }
      }
    },
    "accelerator": "GPU"
  },
  "cells": [
    {
      "cell_type": "code",
      "metadata": {
        "id": "XstQYk2R1YLF"
      },
      "source": [
        "import torch\n",
        "import pickle\n",
        "import numpy as np\n",
        "from skimage import io\n",
        "import copy\n",
        "from sklearn.metrics import f1_score\n",
        "from sklearn.model_selection import train_test_split\n",
        " \n",
        "from tqdm import tqdm, tqdm_notebook\n",
        "from PIL import Image\n",
        "from pathlib import Path\n",
        " \n",
        "from torchvision import transforms, models\n",
        "from multiprocessing.pool import ThreadPool\n",
        "from sklearn.preprocessing import LabelEncoder\n",
        "from torch.utils.data import Dataset, DataLoader\n",
        "import torch.nn as nn\n",
        "from torch.optim import lr_scheduler\n",
        " \n",
        "from matplotlib import colors, pyplot as plt\n",
        "%matplotlib inline\n",
        " \n",
        "import warnings\n",
        "warnings.filterwarnings(action='ignore', category=DeprecationWarning)"
      ],
      "execution_count": 1,
      "outputs": []
    },
    {
      "cell_type": "code",
      "metadata": {
        "id": "JJ8N9syI0Aq4"
      },
      "source": [
        "torch.backends.cudnn.benchmark = True\n",
        "torch.backends.cudnn.enabled = True"
      ],
      "execution_count": 2,
      "outputs": []
    },
    {
      "cell_type": "code",
      "metadata": {
        "id": "ZVjn8f1xyOmD"
      },
      "source": [
        "np.random.seed(77)\n",
        "torch.manual_seed(77)\n",
        "torch.cuda.manual_seed(0)\n",
        "torch.backends.cudnn.deterministic = True"
      ],
      "execution_count": 3,
      "outputs": []
    },
    {
      "cell_type": "code",
      "metadata": {
        "colab": {
          "base_uri": "https://localhost:8080/"
        },
        "id": "0Zc6VMKeidub",
        "outputId": "8984ed81-d434-4778-a73f-8e37dc7b42ab"
      },
      "source": [
        "#What GPU we have from Google\n",
        "!nvidia-smi"
      ],
      "execution_count": 4,
      "outputs": [
        {
          "output_type": "stream",
          "text": [
            "Tue Jun 29 17:02:18 2021       \n",
            "+-----------------------------------------------------------------------------+\n",
            "| NVIDIA-SMI 465.27       Driver Version: 460.32.03    CUDA Version: 11.2     |\n",
            "|-------------------------------+----------------------+----------------------+\n",
            "| GPU  Name        Persistence-M| Bus-Id        Disp.A | Volatile Uncorr. ECC |\n",
            "| Fan  Temp  Perf  Pwr:Usage/Cap|         Memory-Usage | GPU-Util  Compute M. |\n",
            "|                               |                      |               MIG M. |\n",
            "|===============================+======================+======================|\n",
            "|   0  Tesla K80           Off  | 00000000:00:04.0 Off |                    0 |\n",
            "| N/A   51C    P8    30W / 149W |      0MiB / 11441MiB |      0%      Default |\n",
            "|                               |                      |                  N/A |\n",
            "+-------------------------------+----------------------+----------------------+\n",
            "                                                                               \n",
            "+-----------------------------------------------------------------------------+\n",
            "| Processes:                                                                  |\n",
            "|  GPU   GI   CI        PID   Type   Process name                  GPU Memory |\n",
            "|        ID   ID                                                   Usage      |\n",
            "|=============================================================================|\n",
            "|  No running processes found                                                 |\n",
            "+-----------------------------------------------------------------------------+\n"
          ],
          "name": "stdout"
        }
      ]
    },
    {
      "cell_type": "markdown",
      "metadata": {
        "id": "DGe5nR1SkNzg"
      },
      "source": [
        "### Helper Functions (Losses и Accurancy)"
      ]
    },
    {
      "cell_type": "code",
      "metadata": {
        "id": "G_GzvK09kI3I"
      },
      "source": [
        "import pickle\n",
        "\n",
        "def save_dict_to_file(my_dict, file_path):\n",
        "    with open(file_path, 'wb') as handle:\n",
        "        pickle.dump(my_dict, handle, protocol=pickle.HIGHEST_PROTOCOL)\n",
        "\n",
        "def load_dict_from_file(file_path):\n",
        "    with open(file_path, 'rb') as handle:\n",
        "        unserialized_data = pickle.load(handle)\n",
        "        \n",
        "    return unserialized_data\n",
        "\n",
        "def save_model(path, model, losses, acc, best_model_wts):\n",
        "    torch.save(model.state_dict(), path + '.pth')\n",
        "    torch.save(best_model_wts, path + '_best_w.pth')\n",
        "    save_dict_to_file(losses, path + '_losses.pickle')\n",
        "    save_dict_to_file(acc, path + '_acc.pickle') "
      ],
      "execution_count": 13,
      "outputs": []
    },
    {
      "cell_type": "markdown",
      "metadata": {
        "id": "redE6ovevfka"
      },
      "source": [
        "### Helper Function For Neural Network Trainig"
      ]
    },
    {
      "cell_type": "code",
      "metadata": {
        "id": "9lqPGdfCskpZ"
      },
      "source": [
        "from tqdm import tqdm_notebook\n",
        "import time\n",
        "import logging\n",
        "\n",
        "def train_model(model, dataloaders, criterion, optimizer, num_epochs=25,\n",
        "                scheduler=None, use_gpu=True, best_acc=None, best_loss=None,\n",
        "                flag_save_wts_to_file = False, path = None, losses=None, \n",
        "                acc=None):\n",
        "    since = time.time()\n",
        "\n",
        "    if flag_save_wts_to_file:\n",
        "        if path is None:\n",
        "            raise ValueError('Вы хотетите сохранять веса, но не задали путь в переменную path!')\n",
        "        else:\n",
        "            print('Logging...')\n",
        "            logging.basicConfig(level=logging.INFO, filemode='w', filename=path + '_log_file.txt')\n",
        "            logger = logging.getLogger(__name__)\n",
        "\n",
        "    best_model_wts = copy.deepcopy(model.state_dict())\n",
        "    epoch_best_acc = 0\n",
        "    best_loss_model_wts = copy.deepcopy(model.state_dict())\n",
        "    epoch_best_loss = 0\n",
        "    \n",
        "    if best_acc is None:\n",
        "        best_acc = 0.0\n",
        "\n",
        "    if best_loss is None:\n",
        "        best_loss = np.inf\n",
        "    \n",
        "    if losses is None and acc is None:\n",
        "        losses = {'train': [], 'val': [], 'best':[]}\n",
        "        acc = {'train': [], 'val': [], 'best':[]}\n",
        "    \n",
        "    for epoch in tqdm_notebook(range(num_epochs)):\n",
        "        if scheduler is None:\n",
        "            lr_epoch = []\n",
        "            # выводим lr для каждой группы слоев которую мы определили\n",
        "            # если мы используем один lr для всех обучаемых слоев выведет его\n",
        "            for param_group in optimizer.param_groups:\n",
        "                lr_epoch.append(param_group[\"lr\"])\n",
        "        else:\n",
        "            lr_epoch = scheduler.get_lr()\n",
        "            \n",
        "        print(f'Epoch {epoch}/{num_epochs - 1} lr={lr_epoch}')\n",
        "        print('-' * 10)\n",
        "\n",
        "        if flag_save_wts_to_file:\n",
        "            logger.info(f'Epoch {epoch}/{num_epochs - 1} lr={lr_epoch}')\n",
        "            logger.info('-' * 10)\n",
        "\n",
        "        # каждя эпоха имеет обучающую и тестовую стадии\n",
        "        for phase in ['train', 'val']:\n",
        "            if phase == 'train':\n",
        "                model.train()  # установаить модель в режим обучения\n",
        "            else:\n",
        "                model.eval()  # установить модель в режим предсказания\n",
        "\n",
        "            running_loss = 0.0\n",
        "            running_corrects = 0\n",
        "\n",
        "            # итерируемся по батчам\n",
        "            for inputs, labels in dataloaders[phase]:\n",
        "                # оборачиваем в переменные\n",
        "                if use_gpu:\n",
        "                    inputs = inputs.to(DEVICE)\n",
        "                    labels = labels.to(DEVICE)\n",
        "                else:\n",
        "                    inputs, labels = inputs, labels\n",
        "\n",
        "                # инициализируем градиенты параметров\n",
        "                optimizer.zero_grad()\n",
        "\n",
        "                # активируем расчет градиентов для фазы обучения\n",
        "                with torch.set_grad_enabled(phase == 'train'):\n",
        "                    outputs = model(inputs)\n",
        "                    loss = criterion(outputs, labels)\n",
        "                    _, preds = torch.max(outputs, 1)\n",
        "\n",
        "                    # сделаем backward шаг оптимизатора если сейчас фаза обучения\n",
        "                    if phase == 'train':\n",
        "                        loss.backward()\n",
        "                        optimizer.step()\n",
        "\n",
        "                # подсчитаем статистику по эпохе\n",
        "                running_loss += loss.item() * inputs.size(0)\n",
        "                running_corrects += torch.sum(preds == labels.data)\n",
        "\n",
        "            if phase == 'train':\n",
        "                if scheduler is not None:\n",
        "                    scheduler.step()\n",
        "\n",
        "            epoch_loss = running_loss / len(dataloaders[phase].dataset)\n",
        "            epoch_acc = running_corrects.double() / len(dataloaders[phase].dataset)\n",
        "            epoch_acc = epoch_acc.item()\n",
        "            \n",
        "            losses[phase].append(epoch_loss)\n",
        "            acc[phase].append(epoch_acc)\n",
        "            \n",
        "            print('{} Loss: {:.4f} Acc: {:.4f}'.format(phase, epoch_loss, epoch_acc))\n",
        "            if flag_save_wts_to_file:\n",
        "                logger.info('{} Loss: {:.4f} Acc: {:.4f}'.format(phase, epoch_loss, epoch_acc))\n",
        "\n",
        "            # если на валидационной выборке удалось получить лучшую,\n",
        "            # чем ранее точность, то запомним веса модели в best_model_wts\n",
        "            if phase == 'val' and epoch_acc > best_acc:\n",
        "                best_acc = epoch_acc\n",
        "                best_model_wts = copy.deepcopy(model.state_dict())\n",
        "                epoch_best_acc = epoch\n",
        "                print(f'\\n***new best wts with acc {best_acc} at {epoch_best_acc} epoh***')\n",
        "                if flag_save_wts_to_file:\n",
        "                    torch.save(best_model_wts, path + '_best_w.pth')\n",
        "                    logger.info(f'save new best wts with acc {best_acc} at {epoch_best_acc} epoh')\n",
        "                acc['best'] = [epoch_best_acc, best_acc]\n",
        "            \n",
        "            if phase == 'val' and epoch_loss < best_loss:\n",
        "                best_loss = epoch_loss\n",
        "                best_loss_model_wts = copy.deepcopy(model.state_dict())\n",
        "                epoch_best_loss = epoch\n",
        "                print(f'\\n***new best wts with loss {best_loss} at {epoch_best_loss} epoh***')\n",
        "                if flag_save_wts_to_file:\n",
        "                    torch.save(best_loss_model_wts, path + '_best_w_loss.pth')\n",
        "                    logger.info(f'save new best wts with loss {best_loss} at {epoch_best_loss} epoh')\n",
        "                losses['best'] = [epoch_best_loss, best_loss]\n",
        "\n",
        "        if flag_save_wts_to_file:\n",
        "            print(f'*** save model wts at this {epoch} epoch ! *** \\n')\n",
        "            torch.save(model.state_dict(), path + '.pth')\n",
        "            save_dict_to_file(losses, path + '_losses.pickle')\n",
        "            save_dict_to_file(acc, path + '_acc.pickle')\n",
        "            logger.info(f'*** save model wts at this {epoch} epoch ! *** \\n')\n",
        "\n",
        "    time_elapsed = time.time() - since\n",
        "    print('Training complete in {:.0f}m {:.0f}s'.format(\n",
        "        time_elapsed // 60, time_elapsed % 60))\n",
        "    print('Best val Acc: {:4f} at {}'.format(best_acc, epoch_best_acc))\n",
        "    print('Best val Loss: {:4f} at {}'.format(best_loss, epoch_best_loss))\n",
        "\n",
        "    if flag_save_wts_to_file:\n",
        "        logger.info('Training complete in {:.0f}m {:.0f}s'.format(\n",
        "            time_elapsed // 60, time_elapsed % 60))\n",
        "        logger.info('Best val Acc: {:4f} at {}'.format(best_acc, epoch_best_acc))\n",
        "        logger.info('Best val Loss: {:4f} at {}'.format(best_loss, epoch_best_loss))\n",
        "\n",
        "    logging.shutdown() # выключаем логирование\n",
        "\n",
        "    return model, losses, acc, best_model_wts\n",
        "             \n",
        "def evaluate(model, dataloader_val, DEVICE, use_gpu =True):\n",
        "    \n",
        "    model.eval() \n",
        "    runninig_correct = 0\n",
        "    with torch.no_grad(): \n",
        "        for inputs, labels in dataloader_val:\n",
        "            # переносим на GPU, если оно используется\n",
        "            if use_gpu:\n",
        "                inputs = inputs.to(DEVICE)\n",
        "                labels = labels.to(DEVICE)\n",
        "                \n",
        "            # forard pass\n",
        "            output = model(inputs)\n",
        "            _, predicted = torch.max(output, 1)\n",
        "            \n",
        "            runninig_correct += int(torch.sum(predicted == labels))\n",
        "        \n",
        "    return runninig_correct / len(dataloader_val.dataset)\n",
        "\n",
        "def predict(model, test_loader):\n",
        "    model.eval() # перевели модель в режим предсказание\n",
        "    logits = []\n",
        "\n",
        "    with torch.no_grad():\n",
        "        for inputs in test_loader:\n",
        "            inputs = inputs.to(DEVICE)\n",
        "            outputs = model(inputs).cpu()\n",
        "            logits.append(outputs)\n",
        "            \n",
        "    probs = nn.functional.softmax(torch.cat(logits), dim=-1).numpy()\n",
        "    return probs"
      ],
      "execution_count": 14,
      "outputs": []
    },
    {
      "cell_type": "markdown",
      "metadata": {
        "id": "OaXOlwcgZcRE"
      },
      "source": [
        "### Helper Function for the finding Optimal Learning Rate"
      ]
    },
    {
      "cell_type": "code",
      "metadata": {
        "id": "NIwSCHu2U12G"
      },
      "source": [
        "import math\n",
        "def find_lr(model, dataloaders, loss_fn, optimizer, init_value=1e-8, final_value=10.0, use_gpu=True):\n",
        "    \n",
        "    model.train() # переключаем модель в режим обучения\n",
        "\n",
        "    number_in_epoch = len(dataloaders['train']) - 1\n",
        "    update_step = (final_value / init_value) ** (1 / number_in_epoch)\n",
        "    lr = init_value\n",
        "    optimizer.param_groups[0][\"lr\"] = lr\n",
        "    best_loss = 0.0\n",
        "    batch_num = 0\n",
        "    losses = []\n",
        "    log_lrs = []\n",
        "    for inputs, labels in dataloaders['train']:\n",
        "        if use_gpu:\n",
        "            inputs = inputs.to(DEVICE)\n",
        "            labels = labels.to(DEVICE)\n",
        "\n",
        "        batch_num += 1\n",
        "        optimizer.zero_grad()\n",
        "        outputs = model(inputs)\n",
        "        loss = loss_fn(outputs, labels)\n",
        "\n",
        "        # Crash out if loss explodes\n",
        "        if batch_num > 1 and loss > 4 * best_loss:\n",
        "            return log_lrs[10:-5], losses[10:-5]\n",
        "\n",
        "        # Record the best loss\n",
        "        if loss < best_loss or batch_num == 1:\n",
        "            best_loss = loss\n",
        "\n",
        "        # Store the values\n",
        "        losses.append(loss)\n",
        "        log_lrs.append(math.log10(lr))\n",
        "\n",
        "        # Do the backward pass and optimize\n",
        "        loss.backward()\n",
        "        optimizer.step()\n",
        "\n",
        "        # Update the lr for the next step and store\n",
        "        lr *= update_step\n",
        "        optimizer.param_groups[0][\"lr\"] = lr\n",
        "\n",
        "    return log_lrs[10:-5], losses[10:-5]"
      ],
      "execution_count": 15,
      "outputs": []
    },
    {
      "cell_type": "code",
      "metadata": {
        "id": "zHErHlaGgcCF"
      },
      "source": [
        "def print_learn_params(model):\n",
        "    print('Params to update:')\n",
        "    params_to_update = []\n",
        "    for name,param in model.named_parameters():\n",
        "        if param.requires_grad == True:\n",
        "            params_to_update.append(param)\n",
        "            print(\"\\t\",name)\n",
        "\n",
        "    return params_to_update\n",
        "\n",
        "def print_params(model):\n",
        "    print('Params to update:')\n",
        "    i = 0\n",
        "    params_to_learn = {'num':[], 'param_name':[]}\n",
        "    for name,param in model.named_parameters():\n",
        "        params_to_learn['num'].append(i)\n",
        "        params_to_learn['param_name'].append(name)\n",
        "        print(f\"{i} {name}\")\n",
        "        i += 1\n",
        "\n",
        "    return params_to_learn\n",
        "\n",
        "\n",
        "def show_param_lr_plots(params_number_name, lrs, layer_names=False, figsize=None):\n",
        "    plt.clf()\n",
        "\n",
        "    if figsize is None:\n",
        "        figsize = (12, 8)\n",
        "\n",
        "    fig = plt.figure(figsize=figsize)\n",
        "    ax = fig.add_subplot(1, 1, 1)\n",
        "    ax.plot(params_number_name['num'], lrs, 'r', label='learning rate')\n",
        "    ax.set_title('learning rate for all layers of neuronet')\n",
        "    ax.set_xlabel('layers')\n",
        "    ax.set_ylabel('lr')\n",
        "    if layer_names:\n",
        "        ax.set_xticks(params_number_name['num'])\n",
        "        ax.set_xticklabels(params_number_name['param_name'])\n",
        "        ax.xaxis.set_tick_params(rotation=90)\n",
        "    plt.legend()\n",
        "    plt.show()\n",
        "\n",
        "\n",
        "def set_learn_params(model, lrs):\n",
        "  \n",
        "    print('Params to learn:')\n",
        "    learn_params = []\n",
        "    i = 0\n",
        "\n",
        "    for name, param in model.named_parameters():\n",
        "        if param.requires_grad == True:\n",
        "            learn_params.append({'params': param, 'lr': lrs[i]})\n",
        "            print(f'{lrs[i]} {name}')\n",
        "        i += 1\n",
        "\n",
        "    return learn_params"
      ],
      "execution_count": 16,
      "outputs": []
    },
    {
      "cell_type": "markdown",
      "metadata": {
        "id": "sRxSUDxNkYh0"
      },
      "source": [
        "### Custom Optimizer AdaShift ([AdaShift](https://github.com/MichaelKonobeev/adashift/blob/master/adashift/optimizers.py))\n",
        "\n"
      ]
    },
    {
      "cell_type": "code",
      "metadata": {
        "id": "9RCJJEeKFIDc"
      },
      "source": [
        "\"\"\" Implements AdaShift optimizer. \"\"\"\n",
        "from collections import deque\n",
        "\n",
        "from torch.optim import Optimizer\n",
        "\n",
        "\n",
        "class AdaShift(Optimizer):\n",
        "  def __init__(self, params, lr=1e-3, keep_num=10, betas=(0.9, 0.999),\n",
        "               eps=1e-10, reduce_func=torch.max):\n",
        "    beta1, _ = betas\n",
        "    exp_weight_sum = sum(beta1 ** i for i in range(keep_num))\n",
        "    first_grad_weight = beta1 ** (keep_num - 1) / exp_weight_sum\n",
        "    last_grad_weight = 1. / exp_weight_sum\n",
        "    defaults = dict(lr=lr, keep_num=keep_num, betas=betas,\n",
        "                    eps=eps, reduce_func=reduce_func,\n",
        "                    first_grad_weight=first_grad_weight,\n",
        "                    last_grad_weight=last_grad_weight)\n",
        "    super(AdaShift, self).__init__(params, defaults)\n",
        "\n",
        "  def step(self, closure=None):\n",
        "    loss = None\n",
        "    if closure is not None:\n",
        "      loss = closure()\n",
        "\n",
        "    for group in self.param_groups:\n",
        "      for p in group[\"params\"]:\n",
        "        if p.grad is None:\n",
        "          continue\n",
        "        grad = p.grad.data\n",
        "        if grad.is_sparse:\n",
        "          raise RuntimeError(\"AdaShift does not support sparse gradients.\")\n",
        "\n",
        "        state = self.state[p]\n",
        "        if len(state) == 0:\n",
        "          state[\"step\"] = 1\n",
        "          state[\"grad_deque\"] = deque([grad.clone()], maxlen=group[\"keep_num\"])\n",
        "          state[\"exp_avg\"] = torch.zeros_like(p.data)\n",
        "          state[\"exp_avg_sq\"] = torch.zeros_like(p.data)\n",
        "          continue\n",
        "\n",
        "        grad_deque = state[\"grad_deque\"]\n",
        "        exp_avg, exp_avg_sq = state[\"exp_avg\"], state[\"exp_avg_sq\"]\n",
        "\n",
        "        state[\"step\"] += 1\n",
        "        grad_apply = len(grad_deque) == group[\"keep_num\"]\n",
        "        offset_grad = grad_deque[0]\n",
        "        grad_deque.append(grad.clone())\n",
        "        if not grad_apply:\n",
        "          continue\n",
        "\n",
        "        first_grad_weight = group[\"first_grad_weight\"]\n",
        "        last_grad_weight = group[\"last_grad_weight\"]\n",
        "        beta1, beta2 = group[\"betas\"]\n",
        "        (exp_avg.sub_(first_grad_weight, offset_grad).mul_(beta1)\n",
        "         .add_(last_grad_weight, grad))\n",
        "\n",
        "        reduce_func = group[\"reduce_func\"] or (lambda x: x)\n",
        "        reduced_grad_sq = reduce_func(offset_grad.mul_(offset_grad))\n",
        "        exp_avg_sq.mul_(beta2).add_(1 - beta2, reduced_grad_sq)\n",
        "        bias_correction = 1 - beta2 ** (state[\"step\"] - group[\"keep_num\"])\n",
        "        denom = exp_avg_sq.div(bias_correction).sqrt_().add_(group[\"eps\"])\n",
        "\n",
        "        p.data.addcdiv_(-group[\"lr\"], exp_avg, denom)\n",
        "\n",
        "    return loss"
      ],
      "execution_count": 17,
      "outputs": []
    },
    {
      "cell_type": "markdown",
      "metadata": {
        "id": "LLghG1J7eEp9"
      },
      "source": [
        "### Helper Function for the Data Visualisation (Losses и Accurancy)"
      ]
    },
    {
      "cell_type": "code",
      "metadata": {
        "id": "pam61s9KeN4m"
      },
      "source": [
        "# Скользящее среднее\n",
        "def smooth_curve(points, factor=0.9):\n",
        "    \n",
        "    smoothed_points = []\n",
        "    for point in points:\n",
        "        if smoothed_points:\n",
        "            previous = smoothed_points[-1]\n",
        "            smoothed_points.append(previous * factor + point * (1 - factor))\n",
        "        else:\n",
        "            smoothed_points.append(point)\n",
        "    return smoothed_points\n",
        "\n",
        "def show_losses_plots(losses, smooth_flag = False, min = 0):\n",
        "    \n",
        "    plt.clf()\n",
        "\n",
        "    losses_train, losses_test = losses['train'], losses['val']\n",
        "    epochs = np.arange(len(losses_train))\n",
        "\n",
        "    #Сглаживаем ли мы графики функций потерь?\n",
        "    if smooth_flag:\n",
        "      losses_train = smooth_curve(losses_train)\n",
        "      losses_test = smooth_curve(losses_test)\n",
        "\n",
        "    # Построим график лосса при обучении и валидации\n",
        "    plt.plot(epochs[min:], losses_train[min:], 'r', label='Training loss')\n",
        "    plt.plot(epochs[min:], losses_test[min:], 'b', label='Validation loss')\n",
        "    plt.plot(losses['best'][0], losses['best'][1], 'bo', label='best val loss')\n",
        "    plt.title('Training and validation loss')\n",
        "    plt.xlabel('Epochs')\n",
        "    plt.ylabel('Loss')\n",
        "    plt.yscale('log')\n",
        "    plt.legend()\n",
        "    plt.show()\n",
        "    \n",
        "def show_acc_plots(acc, smooth_flag = False, min = 0):\n",
        "    plt.clf()\n",
        "\n",
        "    acc_train, acc_test = acc['train'], acc['val']\n",
        "    epochs = np.arange(len(acc_train))\n",
        "\n",
        "    #Сглаживаем ли мы графики функций точности?\n",
        "    if smooth_flag:\n",
        "      acc_train = smooth_curve(acc_train)\n",
        "      acc_test = smooth_curve(acc_test)\n",
        "\n",
        "    # Построим график лосса при обучении и валидации\n",
        "    plt.plot(epochs[min:], acc_train[min:], 'r', label='Training acc')\n",
        "    plt.plot(epochs[min:], acc_test[min:], 'b', label='Validation acc')\n",
        "    plt.plot(acc['best'][0], acc['best'][1], 'bo', label='best val acc')\n",
        "    plt.title('Training and validation acc')\n",
        "    plt.xlabel('Epochs')\n",
        "    plt.ylabel('acc')\n",
        "    plt.legend()\n",
        "    plt.show()"
      ],
      "execution_count": 18,
      "outputs": []
    },
    {
      "cell_type": "markdown",
      "metadata": {
        "id": "i14Zvq6wVBRs"
      },
      "source": [
        "### Helper Function For Confusion Matrix (**confusion** matrix, )"
      ]
    },
    {
      "cell_type": "code",
      "metadata": {
        "id": "sNrEqEJzVBRs"
      },
      "source": [
        "import itertools\n",
        "from sklearn.metrics import confusion_matrix\n",
        "    \n",
        "def plot_confusion_matrix(cm, classes,\n",
        "                          normalize=False,\n",
        "                          title='Confusion matrix',\n",
        "                          cmap=plt.cm.Blues):\n",
        "    \n",
        "    cm = cm.T\n",
        "    if normalize:\n",
        "        cm = cm.astype('float') / cm.sum(axis=1)[:, np.newaxis]\n",
        "        print(\"Normalized confusion matrix\")\n",
        "    else:\n",
        "        print('Confusion matrix, without normalization')\n",
        "\n",
        "    plt.figure(figsize=(16,11))\n",
        "    plt.imshow(cm, interpolation='nearest', cmap=cmap)\n",
        "    plt.title(title)\n",
        "    plt.colorbar()\n",
        "    tick_marks = np.arange(len(classes))\n",
        "    plt.xticks(tick_marks, classes, rotation=90)\n",
        "    plt.yticks(tick_marks, classes)\n",
        "\n",
        "    fmt = '.2f' if normalize else 'd'\n",
        "    thresh = cm.max() / 2.\n",
        "    for i, j in itertools.product(range(cm.shape[0]), range(cm.shape[1])):\n",
        "        plt.text(j, i, format(cm[i, j], fmt),\n",
        "                 horizontalalignment=\"center\",\n",
        "                 color=\"white\" if cm[i, j] > thresh else \"black\")\n",
        "\n",
        "    plt.ylabel('True label')\n",
        "    plt.xlabel('Predicted label')\n",
        "\n",
        "    plt.tight_layout()\n",
        "    \n",
        "def show_confusion_matrix_fucn(model, dataloaders):\n",
        "    y_test_all = torch.Tensor().long()\n",
        "    predictions_all = torch.Tensor().long()\n",
        "\n",
        "    # Пройдём по всему validation датасету и запишем ответы сети\n",
        "    with torch.no_grad():\n",
        "        for inputs, labels in dataloaders['val']:\n",
        "            predictions = model(inputs.to(DEVICE))\n",
        "            y_test = labels\n",
        "            _, predictions = torch.max(predictions.cpu(), 1)\n",
        "\n",
        "            # Аналог append для list\n",
        "            y_test_all = torch.cat((y_test_all, y_test), 0)\n",
        "            predictions_all = torch.cat((predictions_all, predictions), 0)\n",
        "\n",
        "    feature_names = sorted(set(dataloaders['val'].dataset.labels))\n",
        "\n",
        "    y_test_all = y_test_all.numpy()\n",
        "    predictions_all = predictions_all.numpy()\n",
        "\n",
        "    # Функция из sklearn, создаёт confusion матрицу\n",
        "    cm = confusion_matrix(y_test_all, predictions_all, np.arange(classes_number))\n",
        "    # Выведем её\n",
        "    plot_confusion_matrix(cm, feature_names, normalize=True)\n",
        "    \n",
        "    return y_test_all, predictions_all, feature_names\n",
        "  \n",
        "def accurancy_for_each_class(y_test_all, predictions_all, feature_names):\n",
        "\n",
        "    class_correct = [0 for i in range(classes_number)]\n",
        "    class_total = [0 for i in range(classes_number)]\n",
        "\n",
        "    c = (predictions_all == y_test_all).squeeze()\n",
        "    for i in range(len(predictions_all)):\n",
        "        label = predictions_all[i]            \n",
        "        class_correct[label] += c[i].item()\n",
        "        class_total[label] += 1\n",
        "\n",
        "    print(class_total)\n",
        "    print(len(class_total))\n",
        "\n",
        "    for i in range(classes_number):\n",
        "        print('Accuracy of %5s\\t%2d %%' % (\n",
        "            (feature_names[i], (100 * class_correct[i] / class_total[i]) if class_total[i] != 0 else -1)))"
      ],
      "execution_count": 19,
      "outputs": []
    },
    {
      "cell_type": "markdown",
      "metadata": {
        "id": "in4AZUz9vGUu"
      },
      "source": [
        "### Some More Helper Fucntions"
      ]
    },
    {
      "cell_type": "code",
      "metadata": {
        "id": "Zhpe848ZyV2w"
      },
      "source": [
        "def classes_number_from_labels(train_val_labels):\n",
        "    return len(np.unique(train_val_labels))\n",
        "\n",
        "def create_dct_from_labels(train_val_labels):\n",
        "    dct_simpsons = {}\n",
        "    for label_i in np.unique(train_val_labels).tolist():\n",
        "        dct_simpsons.update({label_i:train_val_labels.count(label_i)})\n",
        "\n",
        "    return dct_simpsons\n",
        "\n",
        "def create_dct_path_labels(train_files, train_labels):\n",
        "    dct_simpsons = {}\n",
        "    for label_i in np.unique(train_labels).tolist():\n",
        "        dct_simpsons[label_i] = []\n",
        "\n",
        "    for path_i, label_i in zip(train_files, train_labels):\n",
        "        dct_simpsons[label_i].append(path_i)\n",
        "\n",
        "    return dct_simpsons\n",
        "\n",
        "def print_dct(dct_simpsons):\n",
        "    for key in dct_simpsons:\n",
        "        print(f\"{key}\\t{dct_simpsons[key]}\")\n",
        "\n",
        "def count_weights(dct_simpsons):\n",
        "    \n",
        "    dct_simpsons_wht = {}\n",
        "    for key in dct_simpsons:\n",
        "        dct_simpsons_wht.update({key:1. / dct_simpsons[key]})\n",
        "\n",
        "    return dct_simpsons_wht\n",
        "\n",
        "def create_sample_weights_from_labels(train_val_labels, dct_simpsons_wht):\n",
        "    \n",
        "    samples_weight = []\n",
        "    for label_i in train_val_labels:\n",
        "        samples_weight.append(dct_simpsons_wht[label_i])\n",
        "\n",
        "    return torch.from_numpy(np.array(samples_weight))"
      ],
      "execution_count": 20,
      "outputs": []
    },
    {
      "cell_type": "markdown",
      "metadata": {
        "id": "dra1GH0Cyptx"
      },
      "source": [
        "# Download Dataset From Google Drive."
      ]
    },
    {
      "cell_type": "code",
      "metadata": {
        "colab": {
          "base_uri": "https://localhost:8080/"
        },
        "id": "xA3o2xC3MlMI",
        "outputId": "c9c03252-6369-4249-eb47-18868b455c72"
      },
      "source": [
        "from google.colab import drive\n",
        "drive.mount('/content/gdrive/')"
      ],
      "execution_count": 21,
      "outputs": [
        {
          "output_type": "stream",
          "text": [
            "Mounted at /content/gdrive/\n"
          ],
          "name": "stdout"
        }
      ]
    },
    {
      "cell_type": "code",
      "metadata": {
        "id": "xN0PNWCClWFB"
      },
      "source": [
        "import shutil\n",
        "tmp_path = '/content/gdrive/MyDrive/praha_0621/data/full' # this is folder where all labaled data ixist.\n",
        "#example /full/class1/##img , /full/class2/##img\n",
        "if not os.path.exists(tmp_path):\n",
        "  os.makedirs(tmp_path)\n",
        "\n",
        "def file_destroy(folder_path):\n",
        "  folder = folder_path\n",
        "  for filename in os.listdir(folder):\n",
        "      file_path = os.path.join(folder, filename)\n",
        "      try:\n",
        "          if os.path.isfile(file_path) or os.path.islink(file_path):\n",
        "              os.unlink(file_path)\n",
        "          elif os.path.isdir(file_path):\n",
        "              shutil.rmtree(file_path)\n",
        "      except Exception as e:\n",
        "          print('Failed to delete %s. Reason: %s' % (file_path, e))"
      ],
      "execution_count": 23,
      "outputs": []
    },
    {
      "cell_type": "code",
      "metadata": {
        "id": "ljdqYnO7mDF7"
      },
      "source": [
        "dir_list = [tmp_path + '/nok',tmp_path +'/ok'] # here the class name - folder name\n",
        "for el in dir_list:\n",
        "    if not os.path.exists(el):\n",
        "        os.makedirs(el)"
      ],
      "execution_count": 24,
      "outputs": []
    },
    {
      "cell_type": "code",
      "metadata": {
        "id": "8xxbR8VmmhN2"
      },
      "source": [
        "c_path = '/content/gdrive/MyDrive/praha_0621/data/full'\n",
        "h_or_list = os.listdir(c_path + '/ok')\n",
        "s_or_list = os.listdir(c_path + '/nok')"
      ],
      "execution_count": 25,
      "outputs": []
    },
    {
      "cell_type": "code",
      "metadata": {
        "id": "6Sw999T0m0rW"
      },
      "source": [
        "import random\n",
        "H_NUMBER = 100\n",
        "S_NUMBER = 100\n",
        "\n",
        "def rnd_elem_list(num_items,class_list):\n",
        "  res_list = []\n",
        "  for i in range(0,num_items):\n",
        "    res_list.append(random.choice(class_list))\n",
        "  return res_list\n"
      ],
      "execution_count": 26,
      "outputs": []
    },
    {
      "cell_type": "markdown",
      "metadata": {
        "id": "PKZuLqtJ3t7Z"
      },
      "source": [
        "# Divide dataset to train, val, test"
      ]
    },
    {
      "cell_type": "code",
      "metadata": {
        "id": "Sf1Gi2Lx0nCT"
      },
      "source": [
        "\n",
        "DIR = Path ('/content/gdrive/MyDrive/praha_0621/data/full')\n",
        "\n",
        "files = sorted(list(DIR.rglob('*.jpg')))"
      ],
      "execution_count": 30,
      "outputs": []
    },
    {
      "cell_type": "code",
      "metadata": {
        "id": "Tm8OF0AV1ffs"
      },
      "source": [
        "labels = [path.parent.name for path in files] # classes train"
      ],
      "execution_count": 31,
      "outputs": []
    },
    {
      "cell_type": "code",
      "metadata": {
        "colab": {
          "base_uri": "https://localhost:8080/"
        },
        "id": "hm7EhmfN2GrJ",
        "outputId": "e4f30603-699c-44ca-cc87-048cee190859"
      },
      "source": [
        "# observe how many classes we have\n",
        "print(np.unique(labels))\n",
        "print(len(np.unique(labels)))"
      ],
      "execution_count": 32,
      "outputs": [
        {
          "output_type": "stream",
          "text": [
            "['nok' 'ok']\n",
            "2\n"
          ],
          "name": "stdout"
        }
      ]
    },
    {
      "cell_type": "code",
      "metadata": {
        "colab": {
          "base_uri": "https://localhost:8080/"
        },
        "id": "RKZkwfkIo7yZ",
        "outputId": "081cd161-1364-4ba9-8469-b286e71d4419"
      },
      "source": [
        "dct_apples = create_dct_from_labels(labels)\n",
        "print_dct(dct_apples)"
      ],
      "execution_count": 33,
      "outputs": [
        {
          "output_type": "stream",
          "text": [
            "nok\t1048\n",
            "ok\t1360\n"
          ],
          "name": "stdout"
        }
      ]
    },
    {
      "cell_type": "code",
      "metadata": {
        "id": "TmPhhKKlRyCF"
      },
      "source": [
        "# divide to  train_val and test(20%) \n",
        "train_val_files, test_files = train_test_split(files,\n",
        "                                           test_size=0.20,\n",
        "                                           stratify=labels)\n",
        "\n",
        "train_val_labels = [path.parent.name for path in train_val_files] #class  train_val\n",
        "test_labels = [path.parent.name for path in test_files]     # class test"
      ],
      "execution_count": 34,
      "outputs": []
    },
    {
      "cell_type": "code",
      "metadata": {
        "id": "xKqsTO_usaOl"
      },
      "source": [
        "# divide train to train and val(10%) \n",
        "train_files, val_files = train_test_split(train_val_files,\n",
        "                                           test_size=0.10,\n",
        "                                           stratify=train_val_labels)\n",
        "\n",
        "train_labels = [path.parent.name for path in train_files] # classes train\n",
        "val_labels = [path.parent.name for path in val_files]     # classes val"
      ],
      "execution_count": 35,
      "outputs": []
    },
    {
      "cell_type": "code",
      "metadata": {
        "colab": {
          "base_uri": "https://localhost:8080/"
        },
        "id": "9PBq3R-l6YA2",
        "outputId": "80453d03-9938-43d6-e354-f2b90808f5ca"
      },
      "source": [
        "print(create_dct_from_labels(train_labels))"
      ],
      "execution_count": 36,
      "outputs": [
        {
          "output_type": "stream",
          "text": [
            "{'nok': 754, 'ok': 979}\n"
          ],
          "name": "stdout"
        }
      ]
    },
    {
      "cell_type": "code",
      "metadata": {
        "colab": {
          "base_uri": "https://localhost:8080/"
        },
        "id": "vVQ1FHdG6zcH",
        "outputId": "5d139d2e-45ca-4ff6-c681-2f2e9236034e"
      },
      "source": [
        "print(create_dct_from_labels(val_labels))"
      ],
      "execution_count": 37,
      "outputs": [
        {
          "output_type": "stream",
          "text": [
            "{'nok': 84, 'ok': 109}\n"
          ],
          "name": "stdout"
        }
      ]
    },
    {
      "cell_type": "code",
      "metadata": {
        "colab": {
          "base_uri": "https://localhost:8080/"
        },
        "id": "r-p8cyQQ62dX",
        "outputId": "d92c14df-1a2f-4e64-9eb9-acc3ba20abab"
      },
      "source": [
        "print(create_dct_from_labels(test_labels))"
      ],
      "execution_count": 38,
      "outputs": [
        {
          "output_type": "stream",
          "text": [
            "{'nok': 210, 'ok': 272}\n"
          ],
          "name": "stdout"
        }
      ]
    },
    {
      "cell_type": "code",
      "metadata": {
        "id": "Z4eLFhel8OGz"
      },
      "source": [
        "# save all datasets division that all models train to equal dplited data\n",
        "\n",
        "data_save_path = '//content//gdrive//MyDrive//praha_0621//data//full//'\n",
        "\n",
        "datas = [train_files, train_labels, val_files, val_labels, test_files, test_labels]\n",
        "file_names = ['train_files.pickle', 'train_labels.pickle', 'val_files.pickle', 'val_labels.pickle', 'test_files.pickle', 'test_labels.pickle']\n",
        "\n",
        "for data_i, file in zip(datas, file_names):\n",
        "    \n",
        "    with open(data_save_path + file, 'wb') as f:\n",
        "        pickle.dump(data_i, f)"
      ],
      "execution_count": 39,
      "outputs": []
    },
    {
      "cell_type": "markdown",
      "metadata": {
        "id": "X480H5If95yL"
      },
      "source": [
        "# Download our splitting"
      ]
    },
    {
      "cell_type": "code",
      "metadata": {
        "id": "vXFRPVl18vv6"
      },
      "source": [
        "\n",
        "data_load_path = '//content//gdrive//MyDrive//praha_0621//data//full//'\n",
        " \n",
        "with open(data_load_path + 'train_files.pickle', 'rb') as f:\n",
        "    train_files = pickle.load(f)\n",
        " \n",
        "with open(data_load_path + 'train_labels.pickle', 'rb') as f:\n",
        "    train_labels = pickle.load(f)\n",
        " \n",
        "with open(data_load_path + 'val_files.pickle', 'rb') as f:\n",
        "    val_files = pickle.load(f)\n",
        " \n",
        "with open(data_load_path + 'val_labels.pickle', 'rb') as f:\n",
        "    val_labels = pickle.load(f)\n",
        " \n",
        "with open(data_load_path + 'test_files.pickle', 'rb') as f:\n",
        "    test_files = pickle.load(f)\n",
        " \n",
        "with open(data_load_path + 'test_labels.pickle', 'rb') as f:\n",
        "    test_labels = pickle.load(f)"
      ],
      "execution_count": 40,
      "outputs": []
    },
    {
      "cell_type": "markdown",
      "metadata": {
        "id": "iVnNaLBT99c4"
      },
      "source": [
        "## Dataset\n"
      ]
    },
    {
      "cell_type": "code",
      "metadata": {
        "id": "pkxL4ZTKBSKe"
      },
      "source": [
        "DATA_MODES = ['train', 'val', 'test']\n",
        "RESCALE_SIZE = 224\n",
        "DEVICE = torch.device(\"cuda\")"
      ],
      "execution_count": 41,
      "outputs": []
    },
    {
      "cell_type": "code",
      "metadata": {
        "id": "cj32U5iTQUe4"
      },
      "source": [
        "class AppleDataset(Dataset):\n",
        "    def __init__(self, files, mode):\n",
        "        super().__init__()\n",
        "        # список файлов для загрузки\n",
        "        self.files = sorted(files)\n",
        "        # режим работы\n",
        "        self.mode = mode\n",
        "\n",
        "        if self.mode not in DATA_MODES:\n",
        "            print(f\"{self.mode} is not correct; correct modes: {DATA_MODES}\")\n",
        "            raise NameError\n",
        "\n",
        "        self.len_ = len(self.files)\n",
        "     \n",
        "        # кодировщик имен классов\n",
        "        self.label_encoder = LabelEncoder()\n",
        "\n",
        "        if self.mode != 'test':\n",
        "            self.labels = [path.parent.name for path in self.files]\n",
        "            self.label_encoder.fit(self.labels)\n",
        "            path = '/content/gdrive/MyDrive/praha_0621/data/model/'\n",
        "            with open(path + 'label_encoder.pkl', 'wb') as le_dump_file:\n",
        "                  pickle.dump(self.label_encoder, le_dump_file)\n",
        "                      \n",
        "    def __len__(self):\n",
        "        return self.len_\n",
        "      \n",
        "    def load_sample(self, file):\n",
        "        image = Image.open(file)\n",
        "        image.load()\n",
        "        return image\n",
        "  \n",
        "    def __getitem__(self, index):\n",
        "        transform = transforms.Compose([\n",
        "            transforms.Resize(256),\n",
        "            transforms.CenterCrop(RESCALE_SIZE),\n",
        "            transforms.ToTensor(),\n",
        "            transforms.Normalize(mean=[0.485, 0.456, 0.406],\n",
        "                                 std=[0.229, 0.224, 0.225])\n",
        "            ])\n",
        "\n",
        "        transform_augment = transforms.Compose([\n",
        "            transforms.Resize(size=(256, 256)),\n",
        "            transforms.RandomResizedCrop(RESCALE_SIZE),\n",
        "            transforms.RandomHorizontalFlip(),\n",
        "            # transforms.RandomRotation(40),\n",
        "            # transforms.RandomPerspective(),\n",
        "            # transforms.ColorJitter(hue=.1, saturation=.1),\n",
        "            transforms.ToTensor(),\n",
        "            transforms.Normalize(mean=[0.485, 0.456, 0.406],\n",
        "                                 std=[0.229, 0.224, 0.225])\n",
        "            ])\n",
        "\n",
        "        x = self.load_sample(self.files[index])\n",
        "\n",
        "\n",
        "\n",
        "        if self.mode == 'test': \n",
        "            x = transform(x)    \n",
        "            return x\n",
        "        else:\n",
        "            if self.mode == 'train': \n",
        "                x = transform_augment(x)\n",
        "            else:\n",
        "                x = transform(x) \n",
        "                \n",
        "            label = self.labels[index]\n",
        "            label_id = self.label_encoder.transform([label])\n",
        "            y = label_id.item()\n",
        "            return x, y"
      ],
      "execution_count": 135,
      "outputs": []
    },
    {
      "cell_type": "markdown",
      "metadata": {
        "id": "rakkL7r_ZpzK"
      },
      "source": [
        "### Random oversampling in case we have less then 100 images of some classes\n",
        "\n"
      ]
    },
    {
      "cell_type": "code",
      "metadata": {
        "colab": {
          "base_uri": "https://localhost:8080/"
        },
        "id": "8JyPrcaIZpzN",
        "outputId": "bce7b5de-fc0d-43a8-8259-a99766c98dfb"
      },
      "source": [
        "BATCH_SIZE = 16\n",
        "\n",
        "\n",
        "dct_path_train = create_dct_path_labels(train_files, train_labels)\n",
        "\n",
        "for person in dct_path_train:\n",
        "    if len(dct_path_train[person]) < 200:\n",
        "        dct_path_train[person] = dct_path_train[person] * (100 // len(dct_path_train[person]))\n",
        "        dct_path_train[person].extend(dct_path_train[person][:100 - len(dct_path_train[person])])\n",
        "\n",
        "new_train_files = []\n",
        "\n",
        "for person in dct_path_train:\n",
        "    new_train_files.extend(dct_path_train[person])\n",
        "\n",
        "new_train_label = [path.parent.name for path in new_train_files] # классы train\n",
        "\n",
        "val_dataset = AppleDataset(val_files, mode='val')\n",
        "new_train_dataset = AppleDataset(new_train_files, mode='train')\n",
        "\n",
        "\n",
        "dataloaders = {'train': DataLoader(new_train_dataset, batch_size=BATCH_SIZE, shuffle=True),\n",
        "               'val': DataLoader(val_dataset, batch_size=BATCH_SIZE, shuffle=False)}\n",
        "dataset_sizes = {'train': len(new_train_dataset), 'val':len(val_dataset) }\n",
        "\n",
        "\n",
        "dataset_sizes"
      ],
      "execution_count": 136,
      "outputs": [
        {
          "output_type": "execute_result",
          "data": {
            "text/plain": [
              "{'train': 1733, 'val': 193}"
            ]
          },
          "metadata": {
            "tags": []
          },
          "execution_count": 136
        }
      ]
    },
    {
      "cell_type": "markdown",
      "metadata": {
        "id": "-BdFpOoSDAtk"
      },
      "source": [
        "#ResNet-34"
      ]
    },
    {
      "cell_type": "code",
      "metadata": {
        "id": "iyfzKOc0DAto"
      },
      "source": [
        "\n",
        "model_resnet= models.resnet34(pretrained=True)"
      ],
      "execution_count": 137,
      "outputs": []
    },
    {
      "cell_type": "code",
      "metadata": {
        "id": "nvy8JmeTChpR"
      },
      "source": [
        "#Here we change how many classes we have.In our case we have 2 classes.\n",
        "classes_number=2\n",
        "model_resnet.fc = nn.Linear(model_resnet.fc.in_features, classes_number)"
      ],
      "execution_count": 138,
      "outputs": []
    },
    {
      "cell_type": "markdown",
      "metadata": {
        "id": "5SW-oeKGPqnb"
      },
      "source": [
        "## Find optimal learning rate for ResNet "
      ]
    },
    {
      "cell_type": "code",
      "metadata": {
        "id": "agjq_i_BDXEJ"
      },
      "source": [
        "for param in model_resnet.parameters():\n",
        "    param.requires_grad = False\n",
        "\n",
        "for param in model_resnet.fc.parameters():\n",
        "    param.requires_grad = True"
      ],
      "execution_count": 46,
      "outputs": []
    },
    {
      "cell_type": "code",
      "metadata": {
        "colab": {
          "base_uri": "https://localhost:8080/"
        },
        "id": "piCC-ECqER1J",
        "outputId": "218529ad-fff4-491d-aa3a-161663318130"
      },
      "source": [
        "params_to_update = print_learn_params(model_resnet)"
      ],
      "execution_count": 47,
      "outputs": [
        {
          "output_type": "stream",
          "text": [
            "Params to update:\n",
            "\t fc.weight\n",
            "\t fc.bias\n"
          ],
          "name": "stdout"
        }
      ]
    },
    {
      "cell_type": "code",
      "metadata": {
        "id": "SOZN5alREWbS"
      },
      "source": [
        "\n",
        "loss_fn = nn.CrossEntropyLoss()\n",
        "\n",
        "\n",
        "optimizer = torch.optim.Adam(params_to_update, lr=1e-3, amsgrad=True)\n",
        "\n",
        "model_resnet = model_resnet.cuda()"
      ],
      "execution_count": 48,
      "outputs": []
    },
    {
      "cell_type": "code",
      "metadata": {
        "id": "EaQ6XJn_MA4Y",
        "colab": {
          "base_uri": "https://localhost:8080/"
        },
        "outputId": "7b2c31fc-2499-4703-e414-e898ea3f508b"
      },
      "source": [
        "\n",
        "logs, losses = find_lr(model_resnet, dataloaders, loss_fn, optimizer, init_value=1e-8, final_value=10.0)"
      ],
      "execution_count": 49,
      "outputs": [
        {
          "output_type": "stream",
          "text": [
            "/usr/local/lib/python3.7/dist-packages/torch/nn/functional.py:718: UserWarning: Named tensors and all their associated APIs are an experimental feature and subject to change. Please do not use them for anything important until they are released as stable. (Triggered internally at  /pytorch/c10/core/TensorImpl.h:1156.)\n",
            "  return torch.max_pool2d(input, kernel_size, stride, padding, dilation, ceil_mode)\n"
          ],
          "name": "stderr"
        }
      ]
    },
    {
      "cell_type": "code",
      "metadata": {
        "colab": {
          "base_uri": "https://localhost:8080/",
          "height": 625
        },
        "id": "NFf08W7SMj16",
        "outputId": "dc8cec6e-eec3-404c-a994-e10e975a6f10"
      },
      "source": [
        "\n",
        "fig = plt.figure(figsize=(10,10))\n",
        "ax = fig.add_subplot(111)\n",
        "ax.plot(logs,losses)\n",
        "ax.set_xlabel(\"$10^x$\")\n",
        "ax.set_ylabel(\"loss\")"
      ],
      "execution_count": 50,
      "outputs": [
        {
          "output_type": "execute_result",
          "data": {
            "text/plain": [
              "Text(0, 0.5, 'loss')"
            ]
          },
          "metadata": {
            "tags": []
          },
          "execution_count": 50
        },
        {
          "output_type": "display_data",
          "data": {
            "image/png": "[encoded data removed]",
            "text/plain": [
              "<Figure size 720x720 with 1 Axes>"
            ]
          },
          "metadata": {
            "tags": [],
            "needs_background": "light"
          }
        }
      ]
    },
    {
      "cell_type": "code",
      "metadata": {
        "id": "KQ93eFgcv-KQ"
      },
      "source": [
        "torch.cuda.empty_cache()"
      ],
      "execution_count": 51,
      "outputs": []
    },
    {
      "cell_type": "code",
      "metadata": {
        "colab": {
          "base_uri": "https://localhost:8080/"
        },
        "id": "CMAcTzrgDAty",
        "outputId": "be957060-79ad-4992-9736-96b38db54e52"
      },
      "source": [
        "found_lr = 1e-4\n",
        "found_lr"
      ],
      "execution_count": 59,
      "outputs": [
        {
          "output_type": "execute_result",
          "data": {
            "text/plain": [
              "0.0001"
            ]
          },
          "metadata": {
            "tags": []
          },
          "execution_count": 59
        }
      ]
    },
    {
      "cell_type": "markdown",
      "metadata": {
        "id": "kiq-J1qwQScg"
      },
      "source": [
        "### Learning ResNet by Differential Groups Layers"
      ]
    },
    {
      "cell_type": "code",
      "metadata": {
        "colab": {
          "base_uri": "https://localhost:8080/"
        },
        "id": "A1QYUbIjItYK",
        "outputId": "8d5eff8d-11a3-4b43-e631-5c46e378938e"
      },
      "source": [
        "BATCH_SIZE"
      ],
      "execution_count": 139,
      "outputs": [
        {
          "output_type": "execute_result",
          "data": {
            "text/plain": [
              "16"
            ]
          },
          "metadata": {
            "tags": []
          },
          "execution_count": 139
        }
      ]
    },
    {
      "cell_type": "code",
      "metadata": {
        "id": "uwJ6jqblJdNB"
      },
      "source": [
        "for param in model_resnet.parameters():\n",
        "    param.requires_grad = True"
      ],
      "execution_count": 140,
      "outputs": []
    },
    {
      "cell_type": "code",
      "metadata": {
        "colab": {
          "base_uri": "https://localhost:8080/"
        },
        "id": "NnVBa7GfJPXO",
        "outputId": "15f7125b-9cfc-49ca-e8d3-2c7385987367"
      },
      "source": [
        "params_to_update = print_learn_params(model_resnet)"
      ],
      "execution_count": 141,
      "outputs": [
        {
          "output_type": "stream",
          "text": [
            "Params to update:\n",
            "\t conv1.weight\n",
            "\t bn1.weight\n",
            "\t bn1.bias\n",
            "\t layer1.0.conv1.weight\n",
            "\t layer1.0.bn1.weight\n",
            "\t layer1.0.bn1.bias\n",
            "\t layer1.0.conv2.weight\n",
            "\t layer1.0.bn2.weight\n",
            "\t layer1.0.bn2.bias\n",
            "\t layer1.1.conv1.weight\n",
            "\t layer1.1.bn1.weight\n",
            "\t layer1.1.bn1.bias\n",
            "\t layer1.1.conv2.weight\n",
            "\t layer1.1.bn2.weight\n",
            "\t layer1.1.bn2.bias\n",
            "\t layer1.2.conv1.weight\n",
            "\t layer1.2.bn1.weight\n",
            "\t layer1.2.bn1.bias\n",
            "\t layer1.2.conv2.weight\n",
            "\t layer1.2.bn2.weight\n",
            "\t layer1.2.bn2.bias\n",
            "\t layer2.0.conv1.weight\n",
            "\t layer2.0.bn1.weight\n",
            "\t layer2.0.bn1.bias\n",
            "\t layer2.0.conv2.weight\n",
            "\t layer2.0.bn2.weight\n",
            "\t layer2.0.bn2.bias\n",
            "\t layer2.0.downsample.0.weight\n",
            "\t layer2.0.downsample.1.weight\n",
            "\t layer2.0.downsample.1.bias\n",
            "\t layer2.1.conv1.weight\n",
            "\t layer2.1.bn1.weight\n",
            "\t layer2.1.bn1.bias\n",
            "\t layer2.1.conv2.weight\n",
            "\t layer2.1.bn2.weight\n",
            "\t layer2.1.bn2.bias\n",
            "\t layer2.2.conv1.weight\n",
            "\t layer2.2.bn1.weight\n",
            "\t layer2.2.bn1.bias\n",
            "\t layer2.2.conv2.weight\n",
            "\t layer2.2.bn2.weight\n",
            "\t layer2.2.bn2.bias\n",
            "\t layer2.3.conv1.weight\n",
            "\t layer2.3.bn1.weight\n",
            "\t layer2.3.bn1.bias\n",
            "\t layer2.3.conv2.weight\n",
            "\t layer2.3.bn2.weight\n",
            "\t layer2.3.bn2.bias\n",
            "\t layer3.0.conv1.weight\n",
            "\t layer3.0.bn1.weight\n",
            "\t layer3.0.bn1.bias\n",
            "\t layer3.0.conv2.weight\n",
            "\t layer3.0.bn2.weight\n",
            "\t layer3.0.bn2.bias\n",
            "\t layer3.0.downsample.0.weight\n",
            "\t layer3.0.downsample.1.weight\n",
            "\t layer3.0.downsample.1.bias\n",
            "\t layer3.1.conv1.weight\n",
            "\t layer3.1.bn1.weight\n",
            "\t layer3.1.bn1.bias\n",
            "\t layer3.1.conv2.weight\n",
            "\t layer3.1.bn2.weight\n",
            "\t layer3.1.bn2.bias\n",
            "\t layer3.2.conv1.weight\n",
            "\t layer3.2.bn1.weight\n",
            "\t layer3.2.bn1.bias\n",
            "\t layer3.2.conv2.weight\n",
            "\t layer3.2.bn2.weight\n",
            "\t layer3.2.bn2.bias\n",
            "\t layer3.3.conv1.weight\n",
            "\t layer3.3.bn1.weight\n",
            "\t layer3.3.bn1.bias\n",
            "\t layer3.3.conv2.weight\n",
            "\t layer3.3.bn2.weight\n",
            "\t layer3.3.bn2.bias\n",
            "\t layer3.4.conv1.weight\n",
            "\t layer3.4.bn1.weight\n",
            "\t layer3.4.bn1.bias\n",
            "\t layer3.4.conv2.weight\n",
            "\t layer3.4.bn2.weight\n",
            "\t layer3.4.bn2.bias\n",
            "\t layer3.5.conv1.weight\n",
            "\t layer3.5.bn1.weight\n",
            "\t layer3.5.bn1.bias\n",
            "\t layer3.5.conv2.weight\n",
            "\t layer3.5.bn2.weight\n",
            "\t layer3.5.bn2.bias\n",
            "\t layer4.0.conv1.weight\n",
            "\t layer4.0.bn1.weight\n",
            "\t layer4.0.bn1.bias\n",
            "\t layer4.0.conv2.weight\n",
            "\t layer4.0.bn2.weight\n",
            "\t layer4.0.bn2.bias\n",
            "\t layer4.0.downsample.0.weight\n",
            "\t layer4.0.downsample.1.weight\n",
            "\t layer4.0.downsample.1.bias\n",
            "\t layer4.1.conv1.weight\n",
            "\t layer4.1.bn1.weight\n",
            "\t layer4.1.bn1.bias\n",
            "\t layer4.1.conv2.weight\n",
            "\t layer4.1.bn2.weight\n",
            "\t layer4.1.bn2.bias\n",
            "\t layer4.2.conv1.weight\n",
            "\t layer4.2.bn1.weight\n",
            "\t layer4.2.bn1.bias\n",
            "\t layer4.2.conv2.weight\n",
            "\t layer4.2.bn2.weight\n",
            "\t layer4.2.bn2.bias\n",
            "\t fc.weight\n",
            "\t fc.bias\n"
          ],
          "name": "stdout"
        }
      ]
    },
    {
      "cell_type": "code",
      "metadata": {
        "id": "gpIfesRL4p9v"
      },
      "source": [
        "\n",
        "loss_fn = nn.CrossEntropyLoss()\n",
        " \n",
        " \n",
        "# Set different speed of training by the different layers\n",
        "optimizer = torch.optim.Adam([\n",
        "{ 'params': model_resnet.fc.parameters(), 'lr': found_lr},\n",
        "{ 'params': model_resnet.layer4.parameters(), 'lr': found_lr / 3},\n",
        "{ 'params': model_resnet.layer3.parameters(), 'lr': found_lr / 10},\n",
        "{ 'params': model_resnet.layer2.parameters(), 'lr': found_lr / 50},\n",
        "{ 'params': model_resnet.layer1.parameters(), 'lr': found_lr / 100},\n",
        "{'params': model_resnet.bn1.parameters(), 'lr': found_lr / 100},\n",
        "{'params': model_resnet.conv1.parameters(), 'lr': found_lr / 100}],\n",
        "lr=found_lr / 100, amsgrad=True)\n",
        " \n",
        " \n",
        "model_resnet= model_resnet.cuda()"
      ],
      "execution_count": 142,
      "outputs": []
    },
    {
      "cell_type": "markdown",
      "metadata": {
        "id": "k3bpBkIM4p9q"
      },
      "source": [
        "### Start to train for the 10 epochs"
      ]
    },
    {
      "cell_type": "code",
      "metadata": {
        "id": "Hy6c3HN04p90"
      },
      "source": [
        "# Path to save models.\n",
        "path = '/content/gdrive/MyDrive/praha_0621/data/model'"
      ],
      "execution_count": 143,
      "outputs": []
    },
    {
      "cell_type": "code",
      "metadata": {
        "colab": {
          "base_uri": "https://localhost:8080/",
          "height": 1000,
          "referenced_widgets": [
            "5bb5db619c3e42aeb5da87e7692ce7e7",
            "97a4597c449e40978770111bf070a77c",
            "b78cd23d14d345338ef2ad1eb335c85a",
            "a176ebc2b1134dd19e3188ad5290d54f",
            "f3f55657bbae4662954839e03890e854",
            "522ff3013ab9453fbfebbac5e99ffa39",
            "66f735544401459e89b831f31242f659",
            "1288ab4badf84129a2c3909e1fd02800"
          ]
        },
        "id": "9EV_OVXL4p92",
        "outputId": "087d4125-b026-4c07-b7dd-2309726dfdce"
      },
      "source": [
        "model_resnet, losses, acc, best_model_wts = train_model(model_resnet, dataloaders, loss_fn, optimizer, num_epochs=10, flag_save_wts_to_file=True, path=path)"
      ],
      "execution_count": 329,
      "outputs": [
        {
          "output_type": "stream",
          "text": [
            "Logging...\n"
          ],
          "name": "stdout"
        },
        {
          "output_type": "display_data",
          "data": {
            "application/vnd.jupyter.widget-view+json": {
              "model_id": "5bb5db619c3e42aeb5da87e7692ce7e7",
              "version_minor": 0,
              "version_major": 2
            },
            "text/plain": [
              "HBox(children=(FloatProgress(value=0.0, max=10.0), HTML(value='')))"
            ]
          },
          "metadata": {
            "tags": []
          }
        },
        {
          "output_type": "stream",
          "text": [
            "Epoch 0/9 lr=[0.0001, 3.3333333333333335e-05, 1e-05, 2e-06, 1e-06, 1e-06, 1e-06]\n",
            "----------\n",
            "train Loss: 0.2945 Acc: 0.8679\n",
            "val Loss: 0.3830 Acc: 0.8342\n",
            "\n",
            "***new best wts with acc 0.8341968911917099 at 0 epoh***\n",
            "\n",
            "***new best wts with loss 0.38301668181011717 at 0 epoh***\n",
            "*** save model wts at this 0 epoch ! *** \n",
            "\n",
            "Epoch 1/9 lr=[0.0001, 3.3333333333333335e-05, 1e-05, 2e-06, 1e-06, 1e-06, 1e-06]\n",
            "----------\n",
            "train Loss: 0.2847 Acc: 0.8765\n",
            "val Loss: 0.3334 Acc: 0.8860\n",
            "\n",
            "***new best wts with acc 0.8860103626943006 at 1 epoh***\n",
            "\n",
            "***new best wts with loss 0.3334447731133647 at 1 epoh***\n",
            "*** save model wts at this 1 epoch ! *** \n",
            "\n",
            "Epoch 2/9 lr=[0.0001, 3.3333333333333335e-05, 1e-05, 2e-06, 1e-06, 1e-06, 1e-06]\n",
            "----------\n",
            "train Loss: 0.2669 Acc: 0.8875\n",
            "val Loss: 0.3871 Acc: 0.8601\n",
            "*** save model wts at this 2 epoch ! *** \n",
            "\n",
            "Epoch 3/9 lr=[0.0001, 3.3333333333333335e-05, 1e-05, 2e-06, 1e-06, 1e-06, 1e-06]\n",
            "----------\n",
            "train Loss: 0.2172 Acc: 0.9077\n",
            "val Loss: 0.5188 Acc: 0.7772\n",
            "*** save model wts at this 3 epoch ! *** \n",
            "\n",
            "Epoch 4/9 lr=[0.0001, 3.3333333333333335e-05, 1e-05, 2e-06, 1e-06, 1e-06, 1e-06]\n",
            "----------\n",
            "train Loss: 0.2538 Acc: 0.9002\n",
            "val Loss: 0.3478 Acc: 0.8497\n",
            "*** save model wts at this 4 epoch ! *** \n",
            "\n",
            "Epoch 5/9 lr=[0.0001, 3.3333333333333335e-05, 1e-05, 2e-06, 1e-06, 1e-06, 1e-06]\n",
            "----------\n",
            "train Loss: 0.2421 Acc: 0.8973\n",
            "val Loss: 0.4150 Acc: 0.8446\n",
            "*** save model wts at this 5 epoch ! *** \n",
            "\n",
            "Epoch 6/9 lr=[0.0001, 3.3333333333333335e-05, 1e-05, 2e-06, 1e-06, 1e-06, 1e-06]\n",
            "----------\n",
            "train Loss: 0.2361 Acc: 0.8979\n",
            "val Loss: 0.4408 Acc: 0.8083\n",
            "*** save model wts at this 6 epoch ! *** \n",
            "\n",
            "Epoch 7/9 lr=[0.0001, 3.3333333333333335e-05, 1e-05, 2e-06, 1e-06, 1e-06, 1e-06]\n",
            "----------\n",
            "train Loss: 0.2365 Acc: 0.8967\n",
            "val Loss: 0.3755 Acc: 0.8497\n",
            "*** save model wts at this 7 epoch ! *** \n",
            "\n",
            "Epoch 8/9 lr=[0.0001, 3.3333333333333335e-05, 1e-05, 2e-06, 1e-06, 1e-06, 1e-06]\n",
            "----------\n",
            "train Loss: 0.2080 Acc: 0.9123\n",
            "val Loss: 0.4339 Acc: 0.8342\n",
            "*** save model wts at this 8 epoch ! *** \n",
            "\n",
            "Epoch 9/9 lr=[0.0001, 3.3333333333333335e-05, 1e-05, 2e-06, 1e-06, 1e-06, 1e-06]\n",
            "----------\n",
            "train Loss: 0.2136 Acc: 0.9129\n",
            "val Loss: 0.6147 Acc: 0.7772\n",
            "*** save model wts at this 9 epoch ! *** \n",
            "\n",
            "\n",
            "Training complete in 7m 45s\n",
            "Best val Acc: 0.886010 at 1\n",
            "Best val Loss: 0.333445 at 1\n"
          ],
          "name": "stdout"
        }
      ]
    },
    {
      "cell_type": "code",
      "metadata": {
        "id": "P368QU4nwp7O"
      },
      "source": [
        "torch.cuda.empty_cache()"
      ],
      "execution_count": 330,
      "outputs": []
    },
    {
      "cell_type": "code",
      "metadata": {
        "id": "yiGr3lw-4p95"
      },
      "source": [
        "#load our best model\n",
        "model_resnet.load_state_dict(torch.load(path + '_best_w_loss.pth'))\n",
        "\n",
        "\n",
        "losses = load_dict_from_file(path + '_losses.pickle')\n",
        "acc = load_dict_from_file(path + '_acc.pickle')"
      ],
      "execution_count": 331,
      "outputs": []
    },
    {
      "cell_type": "code",
      "metadata": {
        "colab": {
          "base_uri": "https://localhost:8080/"
        },
        "id": "DgLTBOp04p98",
        "outputId": "5a790fd9-d5cf-4f4e-d109-9aec282b8e8e"
      },
      "source": [
        "# find Accuracy on validation dataset Accuracy: 0.886\n",
        "print(\"Accuracy: {0:.4f}\".format(evaluate(model_resnet, dataloaders['val'], DEVICE, use_gpu =True)))"
      ],
      "execution_count": 332,
      "outputs": [
        {
          "output_type": "stream",
          "text": [
            "Accuracy: 0.8860\n"
          ],
          "name": "stdout"
        }
      ]
    },
    {
      "cell_type": "code",
      "metadata": {
        "id": "mraY-mawfURs"
      },
      "source": [
        ""
      ],
      "execution_count": 332,
      "outputs": []
    },
    {
      "cell_type": "code",
      "metadata": {
        "colab": {
          "base_uri": "https://localhost:8080/",
          "height": 295
        },
        "id": "mdtqIayo4p9_",
        "outputId": "4ab7f61b-c35e-4c03-fd26-669384fff1d6"
      },
      "source": [
        "show_losses_plots(losses, smooth_flag = False, min = 0)"
      ],
      "execution_count": 333,
      "outputs": [
        {
          "output_type": "display_data",
          "data": {
            "image/png": "[encoded data removed]",
            "text/plain": [
              "<Figure size 432x288 with 1 Axes>"
            ]
          },
          "metadata": {
            "tags": [],
            "needs_background": "light"
          }
        }
      ]
    },
    {
      "cell_type": "code",
      "metadata": {
        "colab": {
          "base_uri": "https://localhost:8080/",
          "height": 295
        },
        "id": "yGA8f5dj4p-C",
        "outputId": "8512e5db-6ee4-4ed2-b454-40fcca3ab70c"
      },
      "source": [
        "show_acc_plots(acc, smooth_flag = False)"
      ],
      "execution_count": 334,
      "outputs": [
        {
          "output_type": "display_data",
          "data": {
            "image/png": "[encoded data removed]",
            "text/plain": [
              "<Figure size 432x288 with 1 Axes>"
            ]
          },
          "metadata": {
            "tags": [],
            "needs_background": "light"
          }
        }
      ]
    },
    {
      "cell_type": "code",
      "metadata": {
        "colab": {
          "base_uri": "https://localhost:8080/",
          "height": 818
        },
        "id": "DS_lzuSxyQYV",
        "outputId": "f8506f8a-cec4-4791-be0b-757adab991e0"
      },
      "source": [
        "\n",
        "y_test_all, predictions_all, feature_names = show_confusion_matrix_fucn(model_resnet, dataloaders)"
      ],
      "execution_count": 335,
      "outputs": [
        {
          "output_type": "stream",
          "text": [
            "Normalized confusion matrix\n"
          ],
          "name": "stdout"
        },
        {
          "output_type": "display_data",
          "data": {
            "image/png": "[encoded data removed]",
            "text/plain": [
              "<Figure size 1152x792 with 2 Axes>"
            ]
          },
          "metadata": {
            "tags": [],
            "needs_background": "light"
          }
        }
      ]
    },
    {
      "cell_type": "code",
      "metadata": {
        "colab": {
          "base_uri": "https://localhost:8080/"
        },
        "id": "VJzgLrYyyQYb",
        "scrolled": true,
        "outputId": "be200469-9a9f-4a93-e781-de19d2404e77"
      },
      "source": [
        "#validation dataset accuracy.\n",
        "accurancy_for_each_class(y_test_all, predictions_all, feature_names)"
      ],
      "execution_count": 336,
      "outputs": [
        {
          "output_type": "stream",
          "text": [
            "[84, 109]\n",
            "2\n",
            "Accuracy of   nok\t86 %\n",
            "Accuracy of    ok\t89 %\n"
          ],
          "name": "stdout"
        }
      ]
    },
    {
      "cell_type": "code",
      "metadata": {
        "id": "EOYQgcfJwzE5"
      },
      "source": [
        "torch.cuda.empty_cache()"
      ],
      "execution_count": 337,
      "outputs": []
    },
    {
      "cell_type": "markdown",
      "metadata": {
        "id": "t0sXkhRgwLHG"
      },
      "source": [
        "# Do the same for the test dataset"
      ]
    },
    {
      "cell_type": "code",
      "metadata": {
        "id": "VLzT6cVxvajY"
      },
      "source": [
        "test_dataset_metrics = AppleDataset(test_files, mode='val')\n",
        "dataloaders_test = {'val': DataLoader(test_dataset_metrics, batch_size=BATCH_SIZE, shuffle=False)}"
      ],
      "execution_count": 338,
      "outputs": []
    },
    {
      "cell_type": "code",
      "metadata": {
        "colab": {
          "base_uri": "https://localhost:8080/"
        },
        "id": "EegMz3e7vsg4",
        "outputId": "fb1b7f1c-bc71-406c-a78b-1d31f892dc9c"
      },
      "source": [
        "# find Accuracy on test dataset Accuracy: 0.8465\n",
        "print(\"Accuracy: {0:.4f}\".format(evaluate(model_resnet, dataloaders_test['val'], DEVICE, use_gpu =True)))"
      ],
      "execution_count": 339,
      "outputs": [
        {
          "output_type": "stream",
          "text": [
            "Accuracy: 0.8465\n"
          ],
          "name": "stdout"
        }
      ]
    },
    {
      "cell_type": "code",
      "metadata": {
        "colab": {
          "base_uri": "https://localhost:8080/",
          "height": 818
        },
        "id": "Bv7mmSVjv6J1",
        "outputId": "2e48e010-ceca-4199-d0a9-b216eb2efaef"
      },
      "source": [
        "\n",
        "y_test_all, predictions_all, feature_names = show_confusion_matrix_fucn(model_resnet, dataloaders_test)"
      ],
      "execution_count": 340,
      "outputs": [
        {
          "output_type": "stream",
          "text": [
            "Normalized confusion matrix\n"
          ],
          "name": "stdout"
        },
        {
          "output_type": "display_data",
          "data": {
            "image/png": "[encoded data removed]",
            "text/plain": [
              "<Figure size 1152x792 with 2 Axes>"
            ]
          },
          "metadata": {
            "tags": [],
            "needs_background": "light"
          }
        }
      ]
    },
    {
      "cell_type": "code",
      "metadata": {
        "colab": {
          "base_uri": "https://localhost:8080/"
        },
        "id": "V7ZagRtWweo3",
        "outputId": "e184ed95-7923-4d56-e693-69296b76d324"
      },
      "source": [
        "accurancy_for_each_class(y_test_all, predictions_all, feature_names)"
      ],
      "execution_count": 341,
      "outputs": [
        {
          "output_type": "stream",
          "text": [
            "[218, 264]\n",
            "2\n",
            "Accuracy of   nok\t81 %\n",
            "Accuracy of    ok\t87 %\n"
          ],
          "name": "stdout"
        }
      ]
    },
    {
      "cell_type": "code",
      "metadata": {
        "colab": {
          "base_uri": "https://localhost:8080/"
        },
        "id": "4_zZUOZyx7oz",
        "outputId": "2bb9f319-d1be-4594-ff7a-d59f5392f211"
      },
      "source": [
        "f1_score(y_test_all, predictions_all)"
      ],
      "execution_count": 342,
      "outputs": [
        {
          "output_type": "execute_result",
          "data": {
            "text/plain": [
              "0.8619402985074627"
            ]
          },
          "metadata": {
            "tags": []
          },
          "execution_count": 342
        }
      ]
    },
    {
      "cell_type": "markdown",
      "metadata": {
        "id": "gQ3HOi1EK7c2"
      },
      "source": [
        "## Save our model"
      ]
    },
    {
      "cell_type": "code",
      "metadata": {
        "id": "EUWEXa-vK_6K"
      },
      "source": [
        "path = '/content/gdrive/MyDrive/praha_0621/data/model/29_06_Final'\n",
        "torch.save(model_resnet, path + 'Full_ResNet34_Last.pth')"
      ],
      "execution_count": 345,
      "outputs": []
    },
    {
      "cell_type": "markdown",
      "metadata": {
        "id": "hnyQ7R110qGH"
      },
      "source": [
        "# Next part xreate one class wrapper for the returning predictions."
      ]
    },
    {
      "cell_type": "code",
      "metadata": {
        "colab": {
          "base_uri": "https://localhost:8080/"
        },
        "id": "NZw2C1P-Z9w4",
        "outputId": "533bac7a-f105-4e14-9f95-a23f61fddc7c"
      },
      "source": [
        "from google.colab import drive\n",
        "drive.mount('/content/gdrive/')"
      ],
      "execution_count": 346,
      "outputs": [
        {
          "output_type": "stream",
          "text": [
            "Drive already mounted at /content/gdrive/; to attempt to forcibly remount, call drive.mount(\"/content/gdrive/\", force_remount=True).\n"
          ],
          "name": "stdout"
        }
      ]
    },
    {
      "cell_type": "code",
      "metadata": {
        "id": "Rk9b-lX8WKhL"
      },
      "source": [
        "import torch\n",
        "import pickle\n",
        "import numpy as np\n",
        "import pandas as pd\n",
        " \n",
        "from PIL import Image\n",
        " \n",
        "from torchvision import transforms, models\n",
        "from sklearn.preprocessing import LabelEncoder"
      ],
      "execution_count": 348,
      "outputs": []
    },
    {
      "cell_type": "code",
      "metadata": {
        "id": "4urG2b9LUSdm"
      },
      "source": [
        "class DLModelImageClassifier(object):\n",
        "\n",
        "    def __init__(self, path_model, path_label_enc):\n",
        "        self.model = torch.load(path_model, map_location=torch.device('cpu'))\n",
        "        self.model.eval()\n",
        "\n",
        "        with open(path_label_enc, 'rb') as f:\n",
        "            label_enc = pickle.load(f)\n",
        "            \n",
        "        self.label_enc = label_enc\n",
        "\n",
        "        self.our_transforms = transforms.Compose([\n",
        "            transforms.Resize(256),\n",
        "            transforms.CenterCrop(224),\n",
        "            transforms.ToTensor(),\n",
        "            transforms.Normalize([0.485, 0.456, 0.406], [0.229, 0.224, 0.225])\n",
        "        ])\n",
        "\n",
        "        self.device = torch.device(\"cuda\" if torch.cuda.is_available() else \"cpu\")\n",
        "\n",
        "        self.model.to(self.device)\n",
        "    \n",
        "    def transform_image(self, image_path):\n",
        "\n",
        "        image = Image.open(image_path)\n",
        "\n",
        "        return self.our_transforms(image).unsqueeze(0)\n",
        "\n",
        "    def get_prediction(self, image_path):\n",
        "        with torch.no_grad():\n",
        "            tensor = self.transform_image(image_path=image_path)\n",
        "            outputs = self.model.forward(tensor.to(self.device))\n",
        "            _, prediction = torch.max(outputs, 1)\n",
        "            prediction = prediction.cpu().detach().numpy()\n",
        "        return self.label_enc.inverse_transform(prediction)[0]\n"
      ],
      "execution_count": 356,
      "outputs": []
    },
    {
      "cell_type": "code",
      "metadata": {
        "id": "WthlFZL2W5Zi"
      },
      "source": [
        "# path to saved models.\n",
        "path_model = '/content/gdrive/MyDrive/praha_0621/data/model/29_06_FinalFull_ResNet34_Last.pth'\n",
        "# path to label encoder\n",
        "path_label_enc = '/content/gdrive/MyDrive/praha_0621/data/model/label_encoder.pkl'"
      ],
      "execution_count": 357,
      "outputs": []
    },
    {
      "cell_type": "code",
      "metadata": {
        "id": "2Kapqux9L3fp"
      },
      "source": [
        "web_model = DLModelImageClassifier(path_model, path_label_enc)"
      ],
      "execution_count": 359,
      "outputs": []
    },
    {
      "cell_type": "code",
      "metadata": {
        "id": "CuKGo-1e7_ZM"
      },
      "source": [
        "#path to folder with the images which we need to predict.\n",
        "import os\n",
        "image_dump2 = os.listdir('/content/gdrive/MyDrive/praha_0621/data/exm5')"
      ],
      "execution_count": 362,
      "outputs": []
    },
    {
      "cell_type": "code",
      "metadata": {
        "colab": {
          "base_uri": "https://localhost:8080/"
        },
        "id": "Roruj8Fidmlc",
        "outputId": "91d5307e-655d-4adb-c888-ec8625fd22e1"
      },
      "source": [
        "image_dump2[:4]"
      ],
      "execution_count": 363,
      "outputs": [
        {
          "output_type": "execute_result",
          "data": {
            "text/plain": [
              "['1359.jpg', '628.jpg', '1636.jpg', '1889.jpg']"
            ]
          },
          "metadata": {
            "tags": []
          },
          "execution_count": 363
        }
      ]
    },
    {
      "cell_type": "code",
      "metadata": {
        "id": "gnek7tf08TGa"
      },
      "source": [
        "columns = ['id','label']\n",
        "values_list = []\n",
        "names_list = []\n",
        "for elem in image_dump2:\n",
        "  pred = web_model.get_prediction('/content/gdrive/MyDrive/praha_0621/data/exm5/' + elem)\n",
        "  res = 'ok' if pred == 'ok' else 'nok'\n",
        "  values_list.append(res)\n",
        "  names_list.append(elem)"
      ],
      "execution_count": 365,
      "outputs": []
    },
    {
      "cell_type": "code",
      "metadata": {
        "id": "iARAg8Xr8TMs"
      },
      "source": [
        "#create dataframe with and save final prediction to disk\n",
        "results_df = pd.DataFrame(list(zip(names_list,values_list)),columns=columns)\n",
        "results_df.to_csv('/content/gdrive/MyDrive/praha_0621/data/res.csv',index=False)"
      ],
      "execution_count": 366,
      "outputs": []
    },
    {
      "cell_type": "code",
      "metadata": {
        "id": "d4x9LoY19EgU",
        "colab": {
          "base_uri": "https://localhost:8080/",
          "height": 516
        },
        "outputId": "5019f001-2374-459c-d35c-eac3d3eb8d5f"
      },
      "source": [
        "results_df.head(15)"
      ],
      "execution_count": 367,
      "outputs": [
        {
          "output_type": "execute_result",
          "data": {
            "text/html": [
              "<div>\n",
              "<style scoped>\n",
              "    .dataframe tbody tr th:only-of-type {\n",
              "        vertical-align: middle;\n",
              "    }\n",
              "\n",
              "    .dataframe tbody tr th {\n",
              "        vertical-align: top;\n",
              "    }\n",
              "\n",
              "    .dataframe thead th {\n",
              "        text-align: right;\n",
              "    }\n",
              "</style>\n",
              "<table border=\"1\" class=\"dataframe\">\n",
              "  <thead>\n",
              "    <tr style=\"text-align: right;\">\n",
              "      <th></th>\n",
              "      <th>id</th>\n",
              "      <th>label</th>\n",
              "    </tr>\n",
              "  </thead>\n",
              "  <tbody>\n",
              "    <tr>\n",
              "      <th>0</th>\n",
              "      <td>1359.jpg</td>\n",
              "      <td>nok</td>\n",
              "    </tr>\n",
              "    <tr>\n",
              "      <th>1</th>\n",
              "      <td>628.jpg</td>\n",
              "      <td>nok</td>\n",
              "    </tr>\n",
              "    <tr>\n",
              "      <th>2</th>\n",
              "      <td>1636.jpg</td>\n",
              "      <td>nok</td>\n",
              "    </tr>\n",
              "    <tr>\n",
              "      <th>3</th>\n",
              "      <td>1889.jpg</td>\n",
              "      <td>nok</td>\n",
              "    </tr>\n",
              "    <tr>\n",
              "      <th>4</th>\n",
              "      <td>2144.jpg</td>\n",
              "      <td>ok</td>\n",
              "    </tr>\n",
              "    <tr>\n",
              "      <th>5</th>\n",
              "      <td>826.jpg</td>\n",
              "      <td>ok</td>\n",
              "    </tr>\n",
              "    <tr>\n",
              "      <th>6</th>\n",
              "      <td>1572.jpg</td>\n",
              "      <td>nok</td>\n",
              "    </tr>\n",
              "    <tr>\n",
              "      <th>7</th>\n",
              "      <td>984.jpg</td>\n",
              "      <td>ok</td>\n",
              "    </tr>\n",
              "    <tr>\n",
              "      <th>8</th>\n",
              "      <td>2769.jpg</td>\n",
              "      <td>ok</td>\n",
              "    </tr>\n",
              "    <tr>\n",
              "      <th>9</th>\n",
              "      <td>889.jpg</td>\n",
              "      <td>ok</td>\n",
              "    </tr>\n",
              "    <tr>\n",
              "      <th>10</th>\n",
              "      <td>1898.jpg</td>\n",
              "      <td>ok</td>\n",
              "    </tr>\n",
              "    <tr>\n",
              "      <th>11</th>\n",
              "      <td>2226.jpg</td>\n",
              "      <td>nok</td>\n",
              "    </tr>\n",
              "    <tr>\n",
              "      <th>12</th>\n",
              "      <td>2667.jpg</td>\n",
              "      <td>nok</td>\n",
              "    </tr>\n",
              "    <tr>\n",
              "      <th>13</th>\n",
              "      <td>715.jpg</td>\n",
              "      <td>ok</td>\n",
              "    </tr>\n",
              "    <tr>\n",
              "      <th>14</th>\n",
              "      <td>2873.jpg</td>\n",
              "      <td>nok</td>\n",
              "    </tr>\n",
              "  </tbody>\n",
              "</table>\n",
              "</div>"
            ],
            "text/plain": [
              "          id label\n",
              "0   1359.jpg   nok\n",
              "1    628.jpg   nok\n",
              "2   1636.jpg   nok\n",
              "3   1889.jpg   nok\n",
              "4   2144.jpg    ok\n",
              "5    826.jpg    ok\n",
              "6   1572.jpg   nok\n",
              "7    984.jpg    ok\n",
              "8   2769.jpg    ok\n",
              "9    889.jpg    ok\n",
              "10  1898.jpg    ok\n",
              "11  2226.jpg   nok\n",
              "12  2667.jpg   nok\n",
              "13   715.jpg    ok\n",
              "14  2873.jpg   nok"
            ]
          },
          "metadata": {
            "tags": []
          },
          "execution_count": 367
        }
      ]
    },
    {
      "cell_type": "code",
      "metadata": {
        "id": "3jJgDR459ErX"
      },
      "source": [
        ""
      ],
      "execution_count": null,
      "outputs": []
    },
    {
      "cell_type": "code",
      "metadata": {
        "id": "JySfo-c87j12"
      },
      "source": [
        ""
      ],
      "execution_count": null,
      "outputs": []
    }
  ]
}